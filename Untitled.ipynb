{
 "cells": [
  {
   "cell_type": "code",
   "execution_count": 8,
   "metadata": {},
   "outputs": [],
   "source": [
    "import matplotlib.pyplot as plt\n",
    "import numpy as np\n",
    "import pandas as pd"
   ]
  },
  {
   "cell_type": "code",
   "execution_count": 9,
   "metadata": {},
   "outputs": [],
   "source": [
    "def getImagesLabels(filename):\n",
    "    \"\"\"\n",
    "    filename: path to the csv file containing all the imagepaths and associated labels\n",
    "    \"\"\"\n",
    "    df = pd.read_csv(filename)\n",
    "    relevant_cols = ['Path', 'Atelectasis', 'Cardiomegaly', 'Consolidation', 'Edema', 'Pleural Effusion']\n",
    "\n",
    "    df = df[relevant_cols]\n",
    "    df = df.replace(np.nan, 0.0)\n",
    "    df = df.replace(-1.0, 0.0)\n",
    "    df = df[df['Path'].str.contains('frontal')]\n",
    "    X = df['Path']\n",
    "    y = df[['Atelectasis', 'Cardiomegaly', 'Consolidation', 'Edema', 'Pleural Effusion']]\n",
    "\n",
    "    return np.asarray(X), np.asarray(y)"
   ]
  },
  {
   "cell_type": "code",
   "execution_count": 10,
   "metadata": {},
   "outputs": [],
   "source": [
    "x, y = getImagesLabels('CheXpert-v1.0-small/train.csv')"
   ]
  },
  {
   "cell_type": "code",
   "execution_count": 4,
   "metadata": {},
   "outputs": [],
   "source": [
    "def multihot(y):\n",
    "    Y = []\n",
    "    for i in range(y.shape[0]):\n",
    "        mhe = []\n",
    "        for j in range(y.shape[1]):\n",
    "            # if(j != 0):\n",
    "            if(y[i,j] == 0):\n",
    "                mhe += [1, 0, 0]\n",
    "            elif(y[i, j] == 1):\n",
    "                mhe += [0, 1, 0]\n",
    "            else:\n",
    "                mhe += [0, 0, 1]\n",
    "            # elif(j == 0):\n",
    "            #     if(y[i,j] == 0):\n",
    "            #         mhe += [1, 0]\n",
    "            #     elif(y[i, j] == 1):\n",
    "            #         mhe += [0, 1]\n",
    "        Y.append(mhe)\n",
    "    return np.asarray(Y)"
   ]
  },
  {
   "cell_type": "code",
   "execution_count": 5,
   "metadata": {},
   "outputs": [],
   "source": [
    "y = multihot(y)"
   ]
  },
  {
   "cell_type": "code",
   "execution_count": 11,
   "metadata": {},
   "outputs": [
    {
     "data": {
      "text/plain": [
       "191027"
      ]
     },
     "execution_count": 11,
     "metadata": {},
     "output_type": "execute_result"
    }
   ],
   "source": [
    "len(y)"
   ]
  },
  {
   "cell_type": "code",
   "execution_count": 12,
   "metadata": {},
   "outputs": [
    {
     "data": {
      "text/plain": [
       "5"
      ]
     },
     "execution_count": 12,
     "metadata": {},
     "output_type": "execute_result"
    }
   ],
   "source": [
    "len(y[0])"
   ]
  },
  {
   "cell_type": "code",
   "execution_count": 13,
   "metadata": {},
   "outputs": [
    {
     "data": {
      "text/plain": [
       "array([0., 0., 0., ..., 0., 1., 0.])"
      ]
     },
     "execution_count": 13,
     "metadata": {},
     "output_type": "execute_result"
    }
   ],
   "source": [
    "y[:, 0]"
   ]
  },
  {
   "cell_type": "code",
   "execution_count": 14,
   "metadata": {},
   "outputs": [
    {
     "name": "stdout",
     "output_type": "stream",
     "text": [
      "5.427557200538358\n",
      "7.168783408167629\n",
      "13.713625510282677\n",
      "2.8455359838953194\n",
      "1.4841285322305882\n",
      "[5.427557200538358, 7.168783408167629, 13.713625510282677, 2.8455359838953194, 1.4841285322305882]\n"
     ]
    }
   ],
   "source": [
    "weights = []\n",
    "for i in range(5):    \n",
    "    classes, counts = np.unique(y[:, i], return_counts=True)\n",
    "    neg, pos = counts\n",
    "    wt = neg/pos\n",
    "    print(wt)\n",
    "    weights.append(wt)\n",
    "print(weights)"
   ]
  },
  {
   "cell_type": "code",
   "execution_count": null,
   "metadata": {},
   "outputs": [],
   "source": []
  }
 ],
 "metadata": {
  "kernelspec": {
   "display_name": "Python 3",
   "language": "python",
   "name": "python3"
  },
  "language_info": {
   "codemirror_mode": {
    "name": "ipython",
    "version": 3
   },
   "file_extension": ".py",
   "mimetype": "text/x-python",
   "name": "python",
   "nbconvert_exporter": "python",
   "pygments_lexer": "ipython3",
   "version": "3.7.4"
  }
 },
 "nbformat": 4,
 "nbformat_minor": 2
}
